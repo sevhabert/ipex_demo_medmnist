{
 "cells": [
  {
   "cell_type": "markdown",
   "metadata": {
    "slideshow": {
     "slide_type": "slide"
    }
   },
   "source": [
    "# Inference with Intel-extension for PyTorch \n"
   ]
  },
  {
   "cell_type": "code",
   "execution_count": null,
   "metadata": {
    "slideshow": {
     "slide_type": "subslide"
    }
   },
   "outputs": [],
   "source": [
    "import os\n",
    "import sys\n",
    "import numpy as np\n",
    "import torch\n",
    "import torch.utils.data as data\n",
    "import torchvision.transforms as transforms\n",
    "\n",
    "print(*torch.__config__.show().split(\"\\n\"), sep=\"\\n\")\n",
    "device = torch.device(\"cpu\")"
   ]
  },
  {
   "cell_type": "code",
   "execution_count": null,
   "metadata": {
    "slideshow": {
     "slide_type": "subslide"
    }
   },
   "outputs": [],
   "source": [
    "import intel_pytorch_extension as ipex\n",
    "print(ipex.__version__)\n",
    "device_ipex = torch.device(\"xpu\")"
   ]
  },
  {
   "cell_type": "markdown",
   "metadata": {
    "slideshow": {
     "slide_type": "skip"
    }
   },
   "source": [
    "#### Import datasets"
   ]
  },
  {
   "cell_type": "code",
   "execution_count": null,
   "metadata": {
    "slideshow": {
     "slide_type": "skip"
    }
   },
   "outputs": [],
   "source": [
    "import medmnist\n",
    "from medmnist.models import ResNet18\n",
    "from medmnist.dataset import PathMNIST, ChestMNIST, DermaMNIST, OCTMNIST, PneumoniaMNIST, RetinaMNIST, BreastMNIST, OrganMNISTAxial, OrganMNISTCoronal, OrganMNISTSagittal\n",
    "from medmnist.info import INFO"
   ]
  },
  {
   "cell_type": "markdown",
   "metadata": {
    "slideshow": {
     "slide_type": "skip"
    }
   },
   "source": [
    "#### Environment settings "
   ]
  },
  {
   "cell_type": "code",
   "execution_count": null,
   "metadata": {
    "slideshow": {
     "slide_type": "skip"
    }
   },
   "outputs": [],
   "source": [
    "data_flag = 'retinamnist'\n",
    "download = True\n",
    "input_root = 'tmp_data/'\n",
    "\n",
    "\n",
    "flag_to_class = {\n",
    "    \"pathmnist\": PathMNIST,\n",
    "    \"chestmnist\": ChestMNIST,\n",
    "    \"dermamnist\": DermaMNIST,\n",
    "    \"octmnist\": OCTMNIST,\n",
    "    \"pneumoniamnist\": PneumoniaMNIST,\n",
    "    \"retinamnist\": RetinaMNIST,\n",
    "    \"breastmnist\": BreastMNIST,\n",
    "    \"organmnist_axial\": OrganMNISTAxial,\n",
    "    \"organmnist_coronal\": OrganMNISTCoronal,\n",
    "    \"organmnist_sagittal\": OrganMNISTSagittal,\n",
    "}\n",
    "\n",
    "DataClass = flag_to_class[data_flag]\n",
    "\n",
    "info = INFO[data_flag]\n",
    "task = info['task']\n",
    "n_channels = info['n_channels']\n",
    "n_classes = len(info['label'])\n",
    "n_samples = info['n_samples']['train']\n",
    "\n",
    "# preprocessing\n",
    "data_transform = transforms.Compose([\n",
    "    transforms.ToTensor(),\n",
    "    transforms.Normalize(mean=[.5], std=[.5])\n",
    "])\n",
    "\n",
    "# load the data\n",
    "train_dataset = DataClass(root=input_root, split='train', transform=data_transform, download=download)\n",
    "\n",
    "# encapsulate data into dataloader form\n",
    "train_loader = data.DataLoader(dataset=train_dataset, batch_size=n_samples, shuffle=True)"
   ]
  },
  {
   "cell_type": "markdown",
   "metadata": {
    "slideshow": {
     "slide_type": "slide"
    }
   },
   "source": [
    "## Model, loss and optimization definition"
   ]
  },
  {
   "cell_type": "code",
   "execution_count": null,
   "metadata": {
    "slideshow": {
     "slide_type": "subslide"
    }
   },
   "outputs": [],
   "source": [
    "model = ResNet18(in_channels=n_channels, num_classes=n_classes).to(device) \n",
    "model_ipex = ResNet18(in_channels=n_channels, num_classes=n_classes).to(device_ipex)"
   ]
  },
  {
   "cell_type": "code",
   "execution_count": null,
   "metadata": {
    "slideshow": {
     "slide_type": "subslide"
    }
   },
   "outputs": [],
   "source": [
    "def inference(model, data_loader, device):\n",
    "    model.eval()\n",
    "    with torch.no_grad():\n",
    "        for batch_idx, (inputs, targets) in enumerate(data_loader):\n",
    "            outputs = model(inputs.to(device))  "
   ]
  },
  {
   "cell_type": "code",
   "execution_count": 8,
   "metadata": {
    "slideshow": {
     "slide_type": "subslide"
    }
   },
   "outputs": [
    {
     "name": "stdout",
     "output_type": "stream",
     "text": [
      "==> Inference ...\n",
      "time for Stock PyTorch 2.312333345413208\n",
      "time for Intel Extension for PyTorch 0.9268012046813965\n"
     ]
    }
   ],
   "source": [
    "import time\n",
    "\n",
    "print('==> Inference ...')\n",
    "\n",
    "restore_model_path = './output/export_inference/model/'+data_flag+'.pth'\n",
    "\n",
    "model.load_state_dict(torch.load(restore_model_path)['net'])\n",
    "\n",
    "tsb = time.time()\n",
    "inference(model,train_loader, device)\n",
    "tsf= time.time() - tsb\n",
    "print(\"time for Stock PyTorch\", tsf)\n",
    "\n",
    "model_ipex.load_state_dict(torch.load(restore_model_path)['net'])\n",
    "tipexb = time.time()\n",
    "inference(model_ipex,train_loader, device_ipex)\n",
    "tipexf = time.time() - tipexb\n",
    "print(\"time for Intel Extension for PyTorch\", tipexf)\n"
   ]
  },
  {
   "cell_type": "code",
   "execution_count": null,
   "metadata": {
    "slideshow": {
     "slide_type": "skip"
    }
   },
   "outputs": [],
   "source": []
  },
  {
   "cell_type": "code",
   "execution_count": null,
   "metadata": {
    "slideshow": {
     "slide_type": "skip"
    }
   },
   "outputs": [],
   "source": []
  },
  {
   "cell_type": "code",
   "execution_count": null,
   "metadata": {
    "slideshow": {
     "slide_type": "skip"
    }
   },
   "outputs": [],
   "source": []
  }
 ],
 "metadata": {
  "celltoolbar": "Slideshow",
  "kernelspec": {
   "display_name": "Python 3",
   "language": "python",
   "name": "python3"
  },
  "language_info": {
   "codemirror_mode": {
    "name": "ipython",
    "version": 3
   },
   "file_extension": ".py",
   "mimetype": "text/x-python",
   "name": "python",
   "nbconvert_exporter": "python",
   "pygments_lexer": "ipython3",
   "version": "3.7.9"
  },
  "toc-autonumbering": false,
  "toc-showmarkdowntxt": false
 },
 "nbformat": 4,
 "nbformat_minor": 4
}
